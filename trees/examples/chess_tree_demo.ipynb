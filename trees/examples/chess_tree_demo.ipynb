{
 "cells": [
  {
   "cell_type": "markdown",
   "metadata": {},
   "source": [
    "# Recursive LLM Chess Tree Search Demo\n",
    "\n",
    "This notebook demonstrates the recursive LLM tree search framework for chess analysis. It allows you to explore a chess position using multiple LLM instances that can recursively call each other to explore different branches of the game tree."
   ]
  },
  {
   "cell_type": "code",
   "execution_count": null,
   "metadata": {},
   "source": [
    "# Setup and imports\n",
    "import sys\n",
    "import os\n",
    "import chess\n",
    "import pandas as pd\n",
    "import matplotlib.pyplot as plt\n",
    "\n",
    "# Add project directory to path\n",
    "project_dir = os.path.abspath(os.path.join(os.getcwd(), '..'))\n",
    "if project_dir not in sys.path:\n",
    "    sys.path.append(project_dir)\n",
    "\n",
    "# Import tree_games modules\n",
    "from tree_games.chess_engine.core import ChessEngine\n",
    "from tree_games.tree_search.controller import TreeSearchController\n",
    "from tree_games.utils.visualization import display_board, display_evaluation, display_comparison_table\n",
    "\n",
    "# Create mock LLM API caller for demonstration\n",
    "from tree_games.chess_cli import MockLLMAPI\n",
    "mock_llm_api = MockLLMAPI()"
   ]
  },
  {
   "cell_type": "markdown",
   "metadata": {},
   "source": [
    "## Initialize the Chess Engine\n",
    "\n",
    "First, let's set up the chess engine and display the initial board position."
   ]
  },
  {
   "cell_type": "code",
   "execution_count": null,
   "metadata": {},
   "source": [
    "# Create chess engine\n",
    "engine = ChessEngine()\n",
    "\n",
    "# Display the initial board position\n",
    "display_board(engine.board)"
   ]
  },
  {
   "cell_type": "markdown",
   "metadata": {},
   "source": [
    "## Initialize the Tree Search Controller\n",
    "\n",
    "Now let's create the tree search controller that will manage the exploration of different variations."
   ]
  },
  {
   "cell_type": "code",
   "execution_count": null,
   "metadata": {},
   "source": [
    "# Define a simple LLM caller function that uses the mock API\n",
    "def llm_caller(branch_context):\n",
    "    # Extract board and other context\n",
    "    board = branch_context.get(\"board\")\n",
    "    move_path = branch_context.get(\"move_path\", [])\n",
    "    \n",
    "    # Create a simple prompt\n",
    "    prompt = f\"Board State:\\n{board}\\n\\nMoves: {move_path}\\n\\nPlease analyze this position.\"\n",
    "    \n",
    "    # Call mock API\n",
    "    response = mock_llm_api(\n",
    "        model=\"gpt-4\",\n",
    "        messages=[\n",
    "            {\"role\": \"system\", \"content\": \"You are an expert chess analyst.\"},\n",
    "            {\"role\": \"user\", \"content\": prompt}\n",
    "        ]\n",
    "    )\n",
    "    \n",
    "    # Extract and parse response\n",
    "    content = response.get(\"choices\", [{}])[0].get(\"message\", {}).get(\"content\", \"{}\")\n",
    "    \n",
    "    # Try to parse as JSON\n",
    "    import json\n",
    "    try:\n",
    "        evaluation = json.loads(content)\n",
    "        return evaluation\n",
    "    except json.JSONDecodeError:\n",
    "        # Fallback evaluation\n",
    "        return {\n",
    "            \"position_score\": 0.0,\n",
    "            \"confidence\": 0.5,\n",
    "            \"material_balance\": 0.0,\n",
    "            \"development_score\": 0.0,\n",
    "            \"tactical_score\": 0.0,\n",
    "            \"plans\": [\"JSON parsing failed\"],\n",
    "            \"key_variations\": [\"Error in LLM response\"]\n",
    "        }\n",
    "\n",
    "# Create tree search controller with LLM caller\n",
    "controller = TreeSearchController(llm_caller=llm_caller)\n",
    "\n",
    "# Set exploration parameters\n",
    "controller.max_branches = 3  # Analyze top 3 moves at each position\n",
    "controller.max_depth = 3     # Explore up to 3 moves deep"
   ]
  },
  {
   "cell_type": "markdown",
   "metadata": {},
   "source": [
    "## Analyze the Initial Position\n",
    "\n",
    "Let's explore the top candidate moves from the initial position."
   ]
  },
  {
   "cell_type": "code",
   "execution_count": null,
   "metadata": {},
   "source": [
    "# Evaluate all top moves\n",
    "results = controller.evaluate_all_moves(max_branches=3)\n",
    "\n",
    "# Display results as a comparison table\n",
    "display_comparison_table(results.get(\"evaluations\", []))"
   ]
  },
  {
   "cell_type": "markdown",
   "metadata": {},
   "source": [
    "## Explore a Specific Branch\n",
    "\n",
    "Now let's explore a specific opening move in more depth."
   ]
  },
  {
   "cell_type": "code",
   "execution_count": null,
   "metadata": {},
   "source": [
    "# Choose a move to explore (e4)\n",
    "move = chess.Move.from_uci(\"e2e4\")\n",
    "\n",
    "# Explore the branch\n",
    "evaluation = controller.explore_branch(move, max_branches=3)\n",
    "\n",
    "# Display the evaluation\n",
    "display_evaluation(evaluation)"
   ]
  },
  {
   "cell_type": "markdown",
   "metadata": {},
   "source": [
    "## Make a Move and Continue Analysis\n",
    "\n",
    "Let's execute the move we just explored and continue analyzing from the new position."
   ]
  },
  {
   "cell_type": "code",
   "execution_count": null,
   "metadata": {},
   "source": [
    "# Execute the move\n",
    "controller.commit_move(move)\n",
    "\n",
    "# Display the new board position\n",
    "display_board(controller.engine.board)\n",
    "\n",
    "# Analyze the new position\n",
    "results = controller.evaluate_all_moves(max_branches=3)\n",
    "\n",
    "# Display results\n",
    "display_comparison_table(results.get(\"evaluations\", []))"
   ]
  },
  {
   "cell_type": "markdown",
   "metadata": {},
   "source": [
    "## Explore a Sub-Branch\n",
    "\n",
    "Let's explore a specific response to the move we just played."
   ]
  },
  {
   "cell_type": "code",
   "execution_count": null,
   "metadata": {},
   "source": [
    "# Choose a response move (e5 - the Ruy Lopez)\n",
    "response_move = chess.Move.from_uci(\"e7e5\")\n",
    "\n",
    "# Explore the sub-branch\n",
    "sub_evaluation = controller.explore_branch(response_move, max_branches=2)\n",
    "\n",
    "# Display the evaluation\n",
    "display_evaluation(sub_evaluation)"
   ]
  },
  {
   "cell_type": "markdown",
   "metadata": {},
   "source": [
    "## Simulation: Play Out a Complete Game\n",
    "\n",
    "Let's simulate a complete game by selecting the best move at each position."
   ]
  },
  {
   "cell_type": "code",
   "execution_count": null,
   "metadata": {},
   "source": [
    "# Reset the controller\n",
    "controller.reset()\n",
    "\n",
    "# Display the starting position\n",
    "print(\"Starting position:\")\n",
    "display_board(controller.engine.board)\n",
    "\n",
    "# Play 10 moves or until game over\n",
    "for move_num in range(1, 11):\n",
    "    if controller.engine.is_game_over():\n",
    "        print(f\"Game over: {controller.engine.get_result()}\")\n",
    "        break\n",
    "        \n",
    "    # Analyze position\n",
    "    controller.evaluate_all_moves(max_branches=2)\n",
    "    \n",
    "    # Get best move\n",
    "    best_move = controller.get_best_move()\n",
    "    \n",
    "    if best_move is None:\n",
    "        print(\"No moves available\")\n",
    "        break\n",
    "    \n",
    "    # Execute best move\n",
    "    san = controller.engine.board.san(best_move)\n",
    "    turn = \"White\" if controller.engine.board.turn == chess.WHITE else \"Black\"\n",
    "    controller.commit_move(best_move)\n",
    "    \n",
    "    print(f\"Move {move_num}: {turn} plays {san}\")\n",
    "    \n",
    "# Display final position\n",
    "print(\"\\nFinal position:\")\n",
    "display_board(controller.engine.board)"
   ]
  },
  {
   "cell_type": "markdown",
   "metadata": {},
   "source": [
    "## Exploring Advanced Features\n",
    "\n",
    "The tree search framework supports more advanced features like visualization of the search tree, exporting analysis to PGN, and more. These features are available through the utility modules, but they require additional dependencies like NetworkX and Graphviz."
   ]
  },
  {
   "cell_type": "markdown",
   "metadata": {},
   "source": [
    "## Conclusion\n",
    "\n",
    "This notebook has demonstrated the basic functionality of the recursive LLM chess tree search system. The key advantage of this approach is that it can distribute reasoning across multiple LLM instances, each specializing in exploring a specific branch of the game tree. This allows for more comprehensive exploration of chess positions, resulting in better move decisions.\n",
    "\n",
    "For real-world usage, you would replace the mock LLM API with actual calls to an LLM API like OpenAI's GPT-4 or Anthropic's Claude."
   ]
  }
 ],
 "metadata": {
  "kernelspec": {
   "display_name": "Python 3",
   "language": "python",
   "name": "python3"
  },
  "language_info": {
   "codemirror_mode": {
    "name": "ipython",
    "version": 3
   },
   "file_extension": ".py",
   "mimetype": "text/x-python",
   "name": "python",
   "nbconvert_exporter": "python",
   "pygments_lexer": "ipython3",
   "version": "3.8.10"
  }
 },
 "nbformat": 4,
 "nbformat_minor": 4
}